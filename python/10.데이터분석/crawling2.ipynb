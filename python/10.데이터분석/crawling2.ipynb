{
 "cells": [
  {
   "cell_type": "code",
   "execution_count": 3,
   "metadata": {},
   "outputs": [
    {
     "name": "stdout",
     "output_type": "stream",
     "text": [
      "전국 흐리고 곳곳 눈·비…낮 최고 11도(오늘 날씨) https://www.topstarnews.net/news/articleView.html?idxno=15584092\n",
      "[오늘의 날씨] 대전·충남(20일, 금)…대부분 지역 비 또는 눈 https://www.news1.kr/local/daejeon-chungnam/5637766\n",
      "[기상청 대전 세종 충남 오늘날씨] 흐린 가운데 한파...낮 최고기온은 ... https://www.pinpointnews.co.kr/news/articleView.html?idxno=307689\n",
      "[날씨] 대전·세종·충남 평년 기온 회복…내일~모레 비·눈 https://news.kbs.co.kr/news/pc/view/view.do?ncd=8134146&ref=A\n",
      "10개의 별을 새기는 그날까지! 멈추지 않고 계속될 삼성화재 김우진의 ... https://thespike.co.kr/news/newsview.php?ncode=1065584229038970&_ref=naver\n",
      "전국 대부분 비나 눈…수도권·세종 미세먼지 '나쁨'(내일 날씨) https://www.topstarnews.net/news/articleView.html?idxno=15583941\n",
      "[날씨] 대전·세종·충남, 올겨울 들어 가장 추워… '건강관리 유의' https://www.newscj.com/news/articleView.html?idxno=3212903\n",
      "출근길 -10도 안팎 강추위…낮부터는 누그러져(오늘 날씨) https://www.topstarnews.net/news/articleView.html?idxno=15583657\n",
      "[날씨] 대전·세종·충남, 아침 최저 영하 8도…체감온도 '뚝' http://www.beyondpost.co.kr/view.php?ud=20241219064458518146a9e4dd7f_30\n",
      "천안 경비원·학생도 성금 기탁…'겨울철 어려운 이웃에게' https://www.newsis.com/view/NISX20241218_0003001876\n"
     ]
    }
   ],
   "source": [
    "#실습. 사용자에게 검색어를 입력 받아 검색된 뉴스의 제목과 링크 가져오기\n",
    "import requests\n",
    "from bs4 import BeautifulSoup\n",
    "\n",
    "a = input(\"검색어 입력: \")\n",
    "\n",
    "response = requests.get(f\"https://search.naver.com/search.naver?where=news&query={a}\")\n",
    "html = response.text\n",
    "soup = BeautifulSoup(html, \"html.parser\")\n",
    "\n",
    "news = soup.select(\".news_tit\")\n",
    "\n",
    "for i in news:\n",
    "    title = i.text # 뉴스 제목 텍스트 추출\n",
    "    link = i['href']\n",
    "    print(title, link)\n"
   ]
  },
  {
   "cell_type": "code",
   "execution_count": 25,
   "metadata": {},
   "outputs": [],
   "source": []
  }
 ],
 "metadata": {
  "kernelspec": {
   "display_name": "base",
   "language": "python",
   "name": "python3"
  },
  "language_info": {
   "codemirror_mode": {
    "name": "ipython",
    "version": 3
   },
   "file_extension": ".py",
   "mimetype": "text/x-python",
   "name": "python",
   "nbconvert_exporter": "python",
   "pygments_lexer": "ipython3",
   "version": "3.12.7"
  }
 },
 "nbformat": 4,
 "nbformat_minor": 2
}
