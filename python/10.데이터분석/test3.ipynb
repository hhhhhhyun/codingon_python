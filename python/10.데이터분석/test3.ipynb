{
 "cells": [
  {
   "cell_type": "code",
   "execution_count": 66,
   "metadata": {},
   "outputs": [
    {
     "name": "stdout",
     "output_type": "stream",
     "text": [
      "[0. 0. 0. 0. 0. 0. 0. 0. 0. 0.] \n",
      "\n",
      "[0. 0. 0. 0. 1. 0. 0. 0. 0. 0.] \n",
      "\n",
      "[10 11 12 13 14 15 16 17 18 19 20 21 22 23 24 25 26 27 28 29 30] \n",
      "\n",
      "[[13 86]\n",
      " [54 17]] \n",
      "\n",
      "[[0.28925072 0.95994618 0.92178367 0.86451314]\n",
      " [0.0063988  0.26168847 0.25430583 0.04795217]] \n",
      "\n"
     ]
    }
   ],
   "source": [
    "#실습. Numpy 모듈 사용해보기1\n",
    "import numpy as np\n",
    "a1 = np.zeros(10)\n",
    "print(a1,'\\n')\n",
    "\n",
    "a1[4] = 1\n",
    "print(a1,'\\n')\n",
    "\n",
    "print(np.arange(10,31),'\\n')\n",
    "\n",
    "rng = np.random.default_rng() #seed에 따라서 값이 정해져서 나온다.\n",
    "print(rng.integers(0,99,[2,2]),'\\n')\n",
    "\n",
    "print(rng.random((2,4)),'\\n')\n"
   ]
  },
  {
   "cell_type": "code",
   "execution_count": 67,
   "metadata": {},
   "outputs": [
    {
     "name": "stdout",
     "output_type": "stream",
     "text": [
      "[[84 63]\n",
      " [50 26]]\n"
     ]
    }
   ],
   "source": [
    "# 짚고 넘어가기 \n",
    "rng = np.random.default_rng(seed=()) #seed에 값을 넣으면 random이어도도 값이 고정되어어 나온다.\n",
    "print(rng.integers(0,99,[2,2]))"
   ]
  },
  {
   "cell_type": "code",
   "execution_count": 81,
   "metadata": {},
   "outputs": [
    {
     "name": "stdout",
     "output_type": "stream",
     "text": [
      "[[35 36 37 38]\n",
      " [39 40 41 42]\n",
      " [43 44 45 46]\n",
      " [47 48 49 50]\n",
      " [51 52 53 54]\n",
      " [55 56 57 58]\n",
      " [59 60 61 62]\n",
      " [63 64 65 66]\n",
      " [67 68 69 70]\n",
      " [71 72 73 74]]\n"
     ]
    }
   ],
   "source": [
    "#실습. Numpy 모듈 사용해보기2\n",
    "# 6번\n",
    "a6 = np.arange(35,75)\n",
    "a7 = a6.reshape(10,4)\n",
    "print(a7)"
   ]
  },
  {
   "cell_type": "code",
   "execution_count": 82,
   "metadata": {},
   "outputs": [
    {
     "name": "stdout",
     "output_type": "stream",
     "text": [
      "[[71 72 73 74]\n",
      " [67 68 69 70]\n",
      " [63 64 65 66]\n",
      " [59 60 61 62]\n",
      " [55 56 57 58]\n",
      " [51 52 53 54]\n",
      " [47 48 49 50]\n",
      " [43 44 45 46]\n",
      " [39 40 41 42]\n",
      " [35 36 37 38]]\n"
     ]
    }
   ],
   "source": [
    "# 7번\n",
    "a8 = a7[::-1]\n",
    "print(a8)"
   ]
  },
  {
   "cell_type": "code",
   "execution_count": 83,
   "metadata": {},
   "outputs": [
    {
     "name": "stdout",
     "output_type": "stream",
     "text": [
      "[[41 42]\n",
      " [45 46]\n",
      " [49 50]\n",
      " [53 54]\n",
      " [57 58]\n",
      " [61 62]\n",
      " [65 66]\n",
      " [69 70]]\n"
     ]
    }
   ],
   "source": [
    "# 8번\n",
    "a9 = a7[1:-1, 2:]\n",
    "print(a9)"
   ]
  },
  {
   "cell_type": "code",
   "execution_count": 89,
   "metadata": {},
   "outputs": [
    {
     "name": "stdout",
     "output_type": "stream",
     "text": [
      "[38 42 46 50 54 58 62 66 70 74]\n",
      "[[38]\n",
      " [42]\n",
      " [46]\n",
      " [50]\n",
      " [54]\n",
      " [58]\n",
      " [62]\n",
      " [66]\n",
      " [70]\n",
      " [74]]\n"
     ]
    }
   ],
   "source": [
    "# 9번\n",
    "# 6번\n",
    "#a6 = np.arange(35,75)\n",
    "#a7 = a6.reshape(10,4)\n",
    "#print(a7)\n",
    "a10 = a7[:, -1]\n",
    "print(a10)\n",
    "\n",
    "\n",
    "# 9-1번\n",
    "a10_1 = a7[:,-1:]\n",
    "print(a10_1)"
   ]
  },
  {
   "cell_type": "code",
   "execution_count": 94,
   "metadata": {},
   "outputs": [
    {
     "name": "stdout",
     "output_type": "stream",
     "text": [
      "[[74]\n",
      " [70]\n",
      " [66]\n",
      " [62]\n",
      " [58]\n",
      " [54]\n",
      " [50]\n",
      " [46]\n",
      " [42]\n",
      " [38]]\n"
     ]
    }
   ],
   "source": [
    "# 10번\n",
    "a11 = a7[::-1, -1:]\n",
    "print(a11)"
   ]
  },
  {
   "cell_type": "code",
   "execution_count": 96,
   "metadata": {},
   "outputs": [
    {
     "name": "stdout",
     "output_type": "stream",
     "text": [
      "[[44  7 29 37 43 27]\n",
      " [19 16 22 25 36 45]\n",
      " [ 4 47 27 18 34 29]\n",
      " [13 17 36 30 26 17]\n",
      " [39 20 17 45 14 12]]\n",
      "[44 16 22 36  4 18 34 36 30 26 20 14 12]\n"
     ]
    }
   ],
   "source": [
    "# 11번\n",
    "ndarr = rng.integers(1,51,size = (5,6))\n",
    "print(ndarr)\n",
    "print(ndarr[ndarr % 2 == 0])\n"
   ]
  }
 ],
 "metadata": {
  "kernelspec": {
   "display_name": "base",
   "language": "python",
   "name": "python3"
  },
  "language_info": {
   "codemirror_mode": {
    "name": "ipython",
    "version": 3
   },
   "file_extension": ".py",
   "mimetype": "text/x-python",
   "name": "python",
   "nbconvert_exporter": "python",
   "pygments_lexer": "ipython3",
   "version": "3.12.7"
  }
 },
 "nbformat": 4,
 "nbformat_minor": 2
}
