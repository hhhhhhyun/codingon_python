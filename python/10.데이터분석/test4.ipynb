{
 "cells": [
  {
   "cell_type": "code",
   "execution_count": 2,
   "metadata": {},
   "outputs": [],
   "source": [
    "#차원 확장\n",
    "#expanded\n",
    "import numpy as np\n",
    "\n",
    "a = np.array([[1,2], [3,4]])"
   ]
  },
  {
   "cell_type": "code",
   "execution_count": 4,
   "metadata": {},
   "outputs": [
    {
     "name": "stdout",
     "output_type": "stream",
     "text": [
      "[[[1 2]\n",
      "  [3 4]]]\n",
      "(1, 2, 2)\n"
     ]
    }
   ],
   "source": [
    "expanded = np.expand_dims(a, 0)\n",
    "print(expanded)\n",
    "print(expanded.shape)"
   ]
  },
  {
   "cell_type": "code",
   "execution_count": 6,
   "metadata": {},
   "outputs": [
    {
     "name": "stdout",
     "output_type": "stream",
     "text": [
      "[[[[1. 1. 1.]]\n",
      "\n",
      "  [[1. 1. 1.]]]]\n"
     ]
    }
   ],
   "source": [
    "#차원 축소\n",
    "#squeeze(arr, axis)\n",
    "np_ones = np.ones((1,2,1,3))\n",
    "print(np_ones)"
   ]
  },
  {
   "cell_type": "code",
   "execution_count": 10,
   "metadata": {},
   "outputs": [
    {
     "name": "stdout",
     "output_type": "stream",
     "text": [
      "[[1. 1. 1.]\n",
      " [1. 1. 1.]]\n",
      "(2, 3)\n"
     ]
    }
   ],
   "source": [
    "sqeezed = np.squeeze(np_ones)\n",
    "print(sqeezed) \n",
    "print(sqeezed.shape) "
   ]
  },
  {
   "cell_type": "code",
   "execution_count": 13,
   "metadata": {},
   "outputs": [
    {
     "name": "stdout",
     "output_type": "stream",
     "text": [
      "[1 2 3 4]\n",
      "[2 2 3 2]\n"
     ]
    }
   ],
   "source": [
    "#unique\n",
    "a= [1,1,2,2,3,3,3,4,4]\n",
    "u_a, counts = np.unique(a, return_counts = True)\n",
    "print(u_a) \n",
    "print(counts) "
   ]
  },
  {
   "cell_type": "code",
   "execution_count": 15,
   "metadata": {},
   "outputs": [
    {
     "name": "stdout",
     "output_type": "stream",
     "text": [
      "[1 2 3 4]\n",
      "[0 1 3 4]\n"
     ]
    }
   ],
   "source": [
    "a = [ 1,2,2,3,4,3,4,3,1]\n",
    "u_a, indexs = np.unique(a,return_index = True)\n",
    "print(u_a) \n",
    "print(indexs) "
   ]
  },
  {
   "cell_type": "code",
   "execution_count": 19,
   "metadata": {},
   "outputs": [
    {
     "name": "stdout",
     "output_type": "stream",
     "text": [
      "[1 2 3 4]\n",
      "[0 1 3 4]\n",
      "[2 2 3 2]\n"
     ]
    }
   ],
   "source": [
    "a = [ 1,2,2,3,4,3,4,3,1]\n",
    "u_a, indexs,counts = np.unique(a,return_index = True, return_counts = True)\n",
    "print(u_a) #중복되는 숫자가 뭐가 있어?\n",
    "print(indexs) #중복이 시작되는 인덱스 자리 번호\n",
    "print(counts) #중복 개수"
   ]
  },
  {
   "cell_type": "code",
   "execution_count": 39,
   "metadata": {},
   "outputs": [
    {
     "name": "stdout",
     "output_type": "stream",
     "text": [
      "3 2 5\n"
     ]
    }
   ],
   "source": [
    "#실습.\n",
    "def add(a=1, b=1): #a=1, b=1은 기본값 -> 값이 따로 정해지지 않을때 1로 쓴다.\n",
    "    return a,b,a+b\n",
    "\n",
    "a,b,sum = add(b=2, a=3)\n",
    "print(a,b,sum)"
   ]
  },
  {
   "cell_type": "code",
   "execution_count": 28,
   "metadata": {},
   "outputs": [
    {
     "name": "stdout",
     "output_type": "stream",
     "text": [
      "a [1 4 2 3]\n",
      "b [1 2 3 4]\n",
      "c [0 2 3 1]\n",
      "cc [1 2 3 4]\n",
      "a [1 2 3 4]\n",
      "\n"
     ]
    },
    {
     "data": {
      "text/plain": [
       "array([[1, 2, 3, 4]])"
      ]
     },
     "execution_count": 28,
     "metadata": {},
     "output_type": "execute_result"
    }
   ],
   "source": [
    "#정렬\n",
    "#np.argsort(array): 행렬이 정렬되고 난 후 해당 원소의 인덱스 자리 반환\n",
    "a = np.array([1,4,2,3])\n",
    "b = np.sort(a) # a[np.argsort(a)]\n",
    "print(f\"a {a}\")\n",
    "print(f\"b {b}\")\n",
    "c = np.argsort(a)\n",
    "print(f\"c {c}\")\n",
    "print(f\"cc {a[c]}\")\n",
    "a.sort()\n",
    "print(f\"a {a}\")\n",
    "print()\n",
    "\n",
    "a[c.sort()]"
   ]
  },
  {
   "cell_type": "code",
   "execution_count": 30,
   "metadata": {},
   "outputs": [
    {
     "data": {
      "text/plain": [
       "2.5"
      ]
     },
     "execution_count": 30,
     "metadata": {},
     "output_type": "execute_result"
    }
   ],
   "source": [
    "#그 밖에 유용한 함수\n",
    "a = np.array([1,4,2,3])\n",
    "np.mean(a) #평균값"
   ]
  },
  {
   "cell_type": "code",
   "execution_count": 31,
   "metadata": {},
   "outputs": [
    {
     "data": {
      "text/plain": [
       "1.118033988749895"
      ]
     },
     "execution_count": 31,
     "metadata": {},
     "output_type": "execute_result"
    }
   ],
   "source": [
    "np.std(a) #표준편차"
   ]
  },
  {
   "cell_type": "code",
   "execution_count": 32,
   "metadata": {},
   "outputs": [
    {
     "data": {
      "text/plain": [
       "1.25"
      ]
     },
     "execution_count": 32,
     "metadata": {},
     "output_type": "execute_result"
    }
   ],
   "source": [
    "np.var(a) #분산"
   ]
  },
  {
   "cell_type": "code",
   "execution_count": 33,
   "metadata": {},
   "outputs": [
    {
     "data": {
      "text/plain": [
       "4"
      ]
     },
     "execution_count": 33,
     "metadata": {},
     "output_type": "execute_result"
    }
   ],
   "source": [
    "np.max(a)"
   ]
  },
  {
   "cell_type": "code",
   "execution_count": 34,
   "metadata": {},
   "outputs": [
    {
     "data": {
      "text/plain": [
       "1"
      ]
     },
     "execution_count": 34,
     "metadata": {},
     "output_type": "execute_result"
    }
   ],
   "source": [
    "np.min(a)"
   ]
  },
  {
   "cell_type": "code",
   "execution_count": 35,
   "metadata": {},
   "outputs": [
    {
     "data": {
      "text/plain": [
       "10"
      ]
     },
     "execution_count": 35,
     "metadata": {},
     "output_type": "execute_result"
    }
   ],
   "source": [
    "np.sum(a)"
   ]
  },
  {
   "cell_type": "code",
   "execution_count": 36,
   "metadata": {},
   "outputs": [
    {
     "data": {
      "text/plain": [
       "24"
      ]
     },
     "execution_count": 36,
     "metadata": {},
     "output_type": "execute_result"
    }
   ],
   "source": [
    "np.prod(a) #곱"
   ]
  },
  {
   "cell_type": "code",
   "execution_count": 37,
   "metadata": {},
   "outputs": [
    {
     "data": {
      "text/plain": [
       "2.5"
      ]
     },
     "execution_count": 37,
     "metadata": {},
     "output_type": "execute_result"
    }
   ],
   "source": [
    "np.median(a) #중앙값"
   ]
  },
  {
   "cell_type": "code",
   "execution_count": 40,
   "metadata": {},
   "outputs": [],
   "source": [
    "# axis=0 행, axis=1 열"
   ]
  },
  {
   "cell_type": "code",
   "execution_count": 48,
   "metadata": {},
   "outputs": [
    {
     "name": "stdout",
     "output_type": "stream",
     "text": [
      "[  1   2   3   4   5   7   8   9  10  11  24 100]\n"
     ]
    }
   ],
   "source": [
    "#실습. Numpy 모듈 사용해보기3\n",
    "#1. 중복을 제거한 배열 출력\n",
    "a = [1,1,2,3,4,5,5,5,5,7,8,9,10,11,24,100]\n",
    "unique_a = np.unique(a)\n",
    "print(unique_a)"
   ]
  },
  {
   "cell_type": "code",
   "execution_count": 59,
   "metadata": {},
   "outputs": [
    {
     "name": "stdout",
     "output_type": "stream",
     "text": [
      "100\n",
      "1\n",
      "8.333333333333334\n"
     ]
    }
   ],
   "source": [
    "#2. 1의 결과의 최대, 최소, 평균값 출력\n",
    "print(np.max(unique_a))\n",
    "print(np.min(unique_a))\n",
    "print(np.mean(unique_a))\n"
   ]
  },
  {
   "cell_type": "code",
   "execution_count": 53,
   "metadata": {},
   "outputs": [
    {
     "data": {
      "text/plain": [
       "109.33333333333333"
      ]
     },
     "execution_count": 53,
     "metadata": {},
     "output_type": "execute_result"
    }
   ],
   "source": [
    "#3. 1의 결과의 모든 합 출력\n",
    "max_a = np.max(unique_a)\n",
    "min_a = np.min(unique_a)\n",
    "mean_a = np.mean(unique_a)\n",
    "\n",
    "np.sum(max_a + min_a + mean_a)"
   ]
  },
  {
   "cell_type": "code",
   "execution_count": 55,
   "metadata": {},
   "outputs": [
    {
     "data": {
      "text/plain": [
       "5.0"
      ]
     },
     "execution_count": 55,
     "metadata": {},
     "output_type": "execute_result"
    }
   ],
   "source": [
    "#4. 중복을 제거하지 않은 배열의 중간값 출력\n",
    "np.median(a)"
   ]
  },
  {
   "cell_type": "code",
   "execution_count": 83,
   "metadata": {},
   "outputs": [
    {
     "name": "stdout",
     "output_type": "stream",
     "text": [
      "[[  0   1   2   3   4]\n",
      " [-99   6 -99   8 -99]\n",
      " [-99  11 -99  13 -99]]\n"
     ]
    }
   ],
   "source": [
    "#실습. Numpy 모듈 사용해보기3\n",
    "x = np.arange(15, dtype=np.int64).reshape(3, 5)\n",
    "x[1:, ::2] = -99\n",
    "print(x)"
   ]
  },
  {
   "cell_type": "code",
   "execution_count": 84,
   "metadata": {},
   "outputs": [
    {
     "data": {
      "text/plain": [
       "array([[  8, -99],\n",
       "       [ 13, -99]], dtype=int64)"
      ]
     },
     "execution_count": 84,
     "metadata": {},
     "output_type": "execute_result"
    }
   ],
   "source": [
    "#\n",
    "x[1,1]\n",
    "x[-1,-1]\n",
    "x[:,0]\n",
    "x[1,:]\n",
    "x[1,1]\n",
    "x[:2, :2]\n",
    "x[-2:,-2:]"
   ]
  },
  {
   "cell_type": "code",
   "execution_count": 73,
   "metadata": {},
   "outputs": [
    {
     "name": "stdout",
     "output_type": "stream",
     "text": [
      "최대값: 4\n",
      "최소값: 0\n",
      "평균값: 2.0\n"
     ]
    }
   ],
   "source": [
    "#1. 1열의 최대, 최소 평균값 출력\n",
    "ndarr = x[0:1]\n",
    "\n",
    "print(f'최대값: {np.max(ndarr)}')\n",
    "print(f'최소값: {np.min(ndarr)}')\n",
    "print(f'평균값: {np.mean(ndarr)}')"
   ]
  },
  {
   "cell_type": "code",
   "execution_count": 78,
   "metadata": {},
   "outputs": [
    {
     "name": "stdout",
     "output_type": "stream",
     "text": [
      "-283\n"
     ]
    }
   ],
   "source": [
    "#2. 2행의 모든 합 출력\n",
    "ndarr_2 = x[1:2]\n",
    "print(np.sum(ndarr_2))\n"
   ]
  },
  {
   "cell_type": "code",
   "execution_count": 85,
   "metadata": {},
   "outputs": [
    {
     "ename": "TypeError",
     "evalue": "only integer scalar arrays can be converted to a scalar index",
     "output_type": "error",
     "traceback": [
      "\u001b[1;31m---------------------------------------------------------------------------\u001b[0m",
      "\u001b[1;31mTypeError\u001b[0m                                 Traceback (most recent call last)",
      "Cell \u001b[1;32mIn[85], line 3\u001b[0m\n\u001b[0;32m      1\u001b[0m \u001b[38;5;66;03m#3. 실습 2번 1차원 배열을 argsort 이용하여 내림차순 정렬\u001b[39;00m\n\u001b[0;32m      2\u001b[0m arg_x \u001b[38;5;241m=\u001b[39m np\u001b[38;5;241m.\u001b[39margsort(a)\n\u001b[1;32m----> 3\u001b[0m \u001b[38;5;28mprint\u001b[39m(a[arg_x])\n\u001b[0;32m      5\u001b[0m arg_x_rev \u001b[38;5;241m=\u001b[39m arg_x[::\u001b[38;5;241m-\u001b[39m\u001b[38;5;241m1\u001b[39m]\n\u001b[0;32m      6\u001b[0m \u001b[38;5;28mprint\u001b[39m(a[arg_x_rev])\n",
      "\u001b[1;31mTypeError\u001b[0m: only integer scalar arrays can be converted to a scalar index"
     ]
    }
   ],
   "source": [
    "#3. 실습 2번 1차원 배열을 argsort 이용하여 내림차순 정렬\n",
    "arg_x = np.argsort(a)\n",
    "print(a[arg_x])\n",
    "\n",
    "arg_x_rev = arg_x[::-1]\n",
    "print(a[arg_x_rev])\n"
   ]
  }
 ],
 "metadata": {
  "kernelspec": {
   "display_name": "base",
   "language": "python",
   "name": "python3"
  },
  "language_info": {
   "codemirror_mode": {
    "name": "ipython",
    "version": 3
   },
   "file_extension": ".py",
   "mimetype": "text/x-python",
   "name": "python",
   "nbconvert_exporter": "python",
   "pygments_lexer": "ipython3",
   "version": "3.12.7"
  }
 },
 "nbformat": 4,
 "nbformat_minor": 2
}
