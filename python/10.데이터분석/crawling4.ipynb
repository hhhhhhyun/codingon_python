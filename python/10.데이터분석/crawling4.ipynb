{
 "cells": [
  {
   "cell_type": "code",
   "execution_count": null,
   "metadata": {},
   "outputs": [],
   "source": [
    "#실습1. 환율정보 크롤링하기\n",
    "import requests\n",
    "from bs4 import BeautifulSoup\n",
    "\n",
    "a = input(\"검색어 입력: \")\n",
    "\n",
    "response = requests.get(f\"https://finance.naver.com/marketindex/\")\n",
    "html = response.text\n",
    "soup = BeautifulSoup(html, \"html.parser\")\n",
    "country = soup.select('.h_list')\n",
    "value = soup.select('.value')\n",
    "name = [] #국가 영어이름\n",
    "\n",
    "for i in range(4):\n",
    "    print()\n"
   ]
  }
 ],
 "metadata": {
  "language_info": {
   "name": "python"
  }
 },
 "nbformat": 4,
 "nbformat_minor": 2
}
