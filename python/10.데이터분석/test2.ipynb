{
 "cells": [
  {
   "cell_type": "code",
   "execution_count": 1,
   "metadata": {},
   "outputs": [
    {
     "name": "stdout",
     "output_type": "stream",
     "text": [
      "[3 1 2]\n",
      "<class 'numpy.ndarray'>\n",
      "<class 'list'>\n"
     ]
    },
    {
     "data": {
      "text/plain": [
       "\"\\nnumpy는 하나의 타입만 지원한다.\\n-> x = np.array([3,1,2,'1']) 입력시 모두 스트링으로 출력됨\\n\""
      ]
     },
     "execution_count": 1,
     "metadata": {},
     "output_type": "execute_result"
    }
   ],
   "source": [
    "# Numpy: numerical python의 약자. 수치해석, 통계 관련 계산을 구현할 때 사용하는 모듈\n",
    "import numpy as np #as : 이제부터 numpy를 할건데 np라고 하겠다.\n",
    "x = np.array([3,1,2])\n",
    "print(x)\n",
    "print(type(x))\n",
    "print(type([3,1,2]))\n",
    "'''\n",
    "numpy는 하나의 타입만 지원한다.\n",
    "-> x = np.array([3,1,2,'1']) 입력시 모두 스트링으로 출력됨\n",
    "'''"
   ]
  },
  {
   "cell_type": "code",
   "execution_count": 2,
   "metadata": {},
   "outputs": [
    {
     "ename": "TypeError",
     "evalue": "'builtin_function_or_method' object is not subscriptable",
     "output_type": "error",
     "traceback": [
      "\u001b[1;31m---------------------------------------------------------------------------\u001b[0m",
      "\u001b[1;31mTypeError\u001b[0m                                 Traceback (most recent call last)",
      "Cell \u001b[1;32mIn[2], line 2\u001b[0m\n\u001b[0;32m      1\u001b[0m \u001b[38;5;66;03m# numpy 배열 형태\u001b[39;00m\n\u001b[1;32m----> 2\u001b[0m c \u001b[38;5;241m=\u001b[39m np\u001b[38;5;241m.\u001b[39marray[[\u001b[38;5;241m1\u001b[39m], [\u001b[38;5;241m1\u001b[39m,\u001b[38;5;241m2\u001b[39m]] \u001b[38;5;66;03m# (x)\u001b[39;00m\n\u001b[0;32m      3\u001b[0m \u001b[38;5;124;03m'''\u001b[39;00m\n\u001b[0;32m      4\u001b[0m \u001b[38;5;124;03m배열형태가 list와 비슷하지만 차이 알아두어야함\u001b[39;00m\n\u001b[0;32m      5\u001b[0m \u001b[38;5;124;03mlist: 내부 배열의 원소 개수가 달라도 된다.\u001b[39;00m\n\u001b[0;32m      6\u001b[0m \u001b[38;5;124;03mnumpy: 내부 배열의 원소 개수가 같아야 한다. 다르면 오류남\u001b[39;00m\n\u001b[0;32m      7\u001b[0m \u001b[38;5;124;03m'''\u001b[39;00m\n\u001b[0;32m      8\u001b[0m d \u001b[38;5;241m=\u001b[39m np\u001b[38;5;241m.\u001b[39marray([[\u001b[38;5;241m1\u001b[39m,\u001b[38;5;241m1\u001b[39m], [\u001b[38;5;241m1\u001b[39m,\u001b[38;5;241m2\u001b[39m]]) \u001b[38;5;66;03m# (o)\u001b[39;00m\n",
      "\u001b[1;31mTypeError\u001b[0m: 'builtin_function_or_method' object is not subscriptable"
     ]
    }
   ],
   "source": [
    "# numpy 배열 형태\n",
    "c = np.array[[1], [1,2]] # (x)\n",
    "'''\n",
    "배열형태가 list와 비슷하지만 차이 알아두어야함\n",
    "list: 내부 배열의 원소 개수가 달라도 된다.\n",
    "numpy: 내부 배열의 원소 개수가 같아야 한다. 다르면 오류남\n",
    "'''\n",
    "d = np.array([[1,1], [1,2]]) # (o)\n",
    "\n",
    "for x,y in d:\n",
    "    print(x,y)"
   ]
  },
  {
   "cell_type": "code",
   "execution_count": 3,
   "metadata": {},
   "outputs": [
    {
     "name": "stdout",
     "output_type": "stream",
     "text": [
      "[3. 6. 9.]\n",
      "[-1. -2. -3.]\n",
      "[ 2.  8. 18.]\n",
      "[0.5 0.5 0.5]\n"
     ]
    }
   ],
   "source": [
    "#연산이 가능\n",
    "x = np.array([1.0, 2.0, 3.0])\n",
    "y = np.array([2.0, 4.0, 6.0])\n",
    "\n",
    "print(x+y)\n",
    "print(x-y)\n",
    "print(x*y)\n",
    "print(x/y)"
   ]
  },
  {
   "cell_type": "code",
   "execution_count": 4,
   "metadata": {},
   "outputs": [
    {
     "name": "stdout",
     "output_type": "stream",
     "text": [
      "[3 6]\n",
      "(2,)\n"
     ]
    }
   ],
   "source": [
    "# numpy관련 메소드(ndim, shape)\n",
    "h = np.array([3, 6])\n",
    "print(h)\n",
    "print(h.shape)"
   ]
  },
  {
   "cell_type": "code",
   "execution_count": 5,
   "metadata": {},
   "outputs": [
    {
     "name": "stdout",
     "output_type": "stream",
     "text": [
      "(3,)\n",
      "float64\n",
      "[0.5 1.  1.5]\n"
     ]
    }
   ],
   "source": [
    "# x = np.array([1.0, 2.0, 3.0])\n",
    "# y = np.array([2.0, 4.0, 6.0])\n",
    "print(x.shape) #.shap:  배열 각 차원의 크기를 튜플 형태로 표현 \n",
    "\n",
    "print(x.dtype)\n",
    "print(x / 2.0)"
   ]
  },
  {
   "cell_type": "code",
   "execution_count": 6,
   "metadata": {},
   "outputs": [
    {
     "name": "stdout",
     "output_type": "stream",
     "text": [
      "2\n",
      "(3, 2)\n"
     ]
    }
   ],
   "source": [
    "a = np.array([[1,2],[3,4],[5,6]])\n",
    "\n",
    "print(a.ndim)\n",
    "print(a.shape)"
   ]
  },
  {
   "cell_type": "code",
   "execution_count": 7,
   "metadata": {},
   "outputs": [
    {
     "name": "stdout",
     "output_type": "stream",
     "text": [
      "3\n",
      "(3, 2, 1)\n"
     ]
    }
   ],
   "source": [
    "a = np.array([[[1],[2]],[[3],[4]],[[5],[6]]])\n",
    "\n",
    "print(a.ndim)\n",
    "print(a.shape) "
   ]
  },
  {
   "cell_type": "code",
   "execution_count": 8,
   "metadata": {},
   "outputs": [
    {
     "name": "stdout",
     "output_type": "stream",
     "text": [
      "3\n",
      "(3, 2, 2)\n"
     ]
    }
   ],
   "source": [
    "a = np.array([[[1,2],[2,2]],[[3,2],[4,2]],[[5,2],[6,2]]])\n",
    "\n",
    "print(a.ndim) # 대괄호 갯수\n",
    "print(a.shape) #큰상자 3개 안에, 작은상자 2개 있고, 그 안에 원소 2개가 있으니까 (3,2,2)"
   ]
  },
  {
   "cell_type": "code",
   "execution_count": 9,
   "metadata": {},
   "outputs": [
    {
     "name": "stdout",
     "output_type": "stream",
     "text": [
      "4\n",
      "(3, 2, 2, 1)\n"
     ]
    }
   ],
   "source": [
    "a = np.array([[[[1],[2]],[[2],[2]]],[[[3],[2]],[[4],[2]]],[[[5],[2]],[[6],[2]]]])\n",
    "\n",
    "print(a.ndim)\n",
    "print(a.shape)"
   ]
  },
  {
   "cell_type": "code",
   "execution_count": 10,
   "metadata": {},
   "outputs": [
    {
     "data": {
      "text/plain": [
       "8"
      ]
     },
     "execution_count": 10,
     "metadata": {},
     "output_type": "execute_result"
    }
   ],
   "source": [
    "#np.dot(array1, array2): 배열의 내적 연산\n",
    "np.dot(4,2) \n",
    "'''\n",
    "0차원: 스칼라의 곱\n",
    "1차원: 벡터의 내적 연산\n",
    "2차원: 행렬곱 연산(but, 행렬곱 연산의 경우 matmul()사용)\n",
    "'''"
   ]
  },
  {
   "cell_type": "code",
   "execution_count": 11,
   "metadata": {},
   "outputs": [
    {
     "data": {
      "text/plain": [
       "24"
      ]
     },
     "execution_count": 11,
     "metadata": {},
     "output_type": "execute_result"
    }
   ],
   "source": [
    "ndar1 = np.array([3,2]) # ndarray : numpy는 ndarray 타입의 배열을 만들 수 있다.(ndarray: N-dimension array의 약자. 다차원 배열)\n",
    "ndar2 = np.array([4,6])\n",
    "np.dot(ndar1, ndar2)"
   ]
  },
  {
   "cell_type": "code",
   "execution_count": 12,
   "metadata": {},
   "outputs": [
    {
     "data": {
      "text/plain": [
       "array([[ 7, 10],\n",
       "       [15, 22]])"
      ]
     },
     "execution_count": 12,
     "metadata": {},
     "output_type": "execute_result"
    }
   ],
   "source": [
    "ndar1 = np.array([[1,2], [3,4]])\n",
    "ndar2 = np.array([[1,2], [3,4]])\n",
    "np.dot(ndar1, ndar2)\n",
    "\n",
    "#행렬에서 (행*열) -> AXB 연산을 [2*3] x [3*2] \n",
    "# -> 안쪽이 3*3으로 같으므로 연산 가능o\n",
    "# -> 바깥쪽의 곱으로 행렬이 정렬되므로 결과는 2*2행렬"
   ]
  },
  {
   "cell_type": "code",
   "execution_count": 5,
   "metadata": {},
   "outputs": [
    {
     "ename": "ValueError",
     "evalue": "shapes (2,1) and (2,2) not aligned: 1 (dim 1) != 2 (dim 0)",
     "output_type": "error",
     "traceback": [
      "\u001b[1;31m---------------------------------------------------------------------------\u001b[0m",
      "\u001b[1;31mValueError\u001b[0m                                Traceback (most recent call last)",
      "Cell \u001b[1;32mIn[5], line 4\u001b[0m\n\u001b[0;32m      2\u001b[0m ndar1 \u001b[38;5;241m=\u001b[39m np\u001b[38;5;241m.\u001b[39marray([[\u001b[38;5;241m1\u001b[39m], [\u001b[38;5;241m3\u001b[39m]]) \u001b[38;5;66;03m# 2*1\u001b[39;00m\n\u001b[0;32m      3\u001b[0m ndar2 \u001b[38;5;241m=\u001b[39m np\u001b[38;5;241m.\u001b[39marray([[\u001b[38;5;241m1\u001b[39m,\u001b[38;5;241m2\u001b[39m], [\u001b[38;5;241m3\u001b[39m,\u001b[38;5;241m4\u001b[39m]]) \u001b[38;5;66;03m# 2*2 이므로 연산 불가\u001b[39;00m\n\u001b[1;32m----> 4\u001b[0m np\u001b[38;5;241m.\u001b[39mdot(ndar1, ndar2)\n",
      "\u001b[1;31mValueError\u001b[0m: shapes (2,1) and (2,2) not aligned: 1 (dim 1) != 2 (dim 0)"
     ]
    }
   ],
   "source": [
    "#ㄴ에러\n",
    "ndar1 = np.array([[1], [3]]) # 2*1\n",
    "ndar2 = np.array([[1,2], [3,4]]) # 2*2 이므로 연산 불가\n",
    "np.dot(ndar1, ndar2)"
   ]
  },
  {
   "cell_type": "code",
   "execution_count": 14,
   "metadata": {},
   "outputs": [
    {
     "name": "stdout",
     "output_type": "stream",
     "text": [
      "[[1. 0. 0.]\n",
      " [0. 1. 0.]\n",
      " [0. 0. 1.]]\n"
     ]
    }
   ],
   "source": [
    "# np.eye(n): n*n크기의 단위 행렬 생성\n",
    "# 단위행렬: 곱해서 자기자신이 나오게 하는 것\n",
    "print(np.eye(3))"
   ]
  },
  {
   "cell_type": "code",
   "execution_count": 15,
   "metadata": {},
   "outputs": [
    {
     "name": "stdout",
     "output_type": "stream",
     "text": [
      "(2, 2, 1)\n",
      "3\n",
      "1\n",
      "[[[1]\n",
      "  [2]]\n",
      "\n",
      " [[3]\n",
      "  [4]]]\n"
     ]
    }
   ],
   "source": [
    "# flatten\n",
    "ndar2 = np.array([[[1],[2]], [[3],[4]]])\n",
    "print(ndar2.shape)\n",
    "print(ndar2.ndim)\n",
    "\n",
    "a = ndar2.flatten() #.flatten: 평탄화(N차원 배열을 1차원 배열로 변환시켜주는 작업)\n",
    "print(a.ndim)\n",
    "print(ndar2)"
   ]
  },
  {
   "cell_type": "code",
   "execution_count": 72,
   "metadata": {},
   "outputs": [
    {
     "name": "stdout",
     "output_type": "stream",
     "text": [
      "[[1 2]\n",
      " [2 3]\n",
      " [3 4]]\n"
     ]
    }
   ],
   "source": [
    "#.reshape(행, 열): 배열의 차원을 변경\n",
    "# 기존 행렬의 원소와 만들고자 하는 행열의 원소의 갯수가 같아야 생성됨!\n",
    "ndarr = np.array([[1,2], [2,3], [3,4]])\n",
    "ndarr.reshape(2,3) #.reshape(2,3):2행3열 배열의 행열을 만들어라 \n",
    "print(ndarr)"
   ]
  },
  {
   "cell_type": "code",
   "execution_count": 17,
   "metadata": {},
   "outputs": [
    {
     "data": {
      "text/plain": [
       "array([[1],\n",
       "       [2],\n",
       "       [2],\n",
       "       [3],\n",
       "       [3],\n",
       "       [4]])"
      ]
     },
     "execution_count": 17,
     "metadata": {},
     "output_type": "execute_result"
    }
   ],
   "source": [
    "ndarr.reshape(6,1)"
   ]
  },
  {
   "cell_type": "code",
   "execution_count": 18,
   "metadata": {},
   "outputs": [
    {
     "data": {
      "text/plain": [
       "array([1, 2, 2, 3, 3, 4])"
      ]
     },
     "execution_count": 18,
     "metadata": {},
     "output_type": "execute_result"
    }
   ],
   "source": [
    "ndarr.flatten()"
   ]
  },
  {
   "cell_type": "code",
   "execution_count": 29,
   "metadata": {},
   "outputs": [
    {
     "data": {
      "text/plain": [
       "array([[0, 2, 1, 0],\n",
       "       [0, 1, 2, 4]])"
      ]
     },
     "execution_count": 31,
     "metadata": {},
     "output_type": "execute_result"
    }
   ],
   "source": [
    "# Numpy관련 메소드 random\n",
    "np.random.randint(5, size=(2,4)) \n",
    "'''\n",
    "5: 0~4까지의 난수\n",
    "size=(2,4): 2행 4열열\n",
    "-> 0~4까지의 난수 중에서 2행 4열열으로 랜덤으로 배열해라\n",
    "'''"
   ]
  },
  {
   "cell_type": "code",
   "execution_count": 71,
   "metadata": {},
   "outputs": [
    {
     "data": {
      "text/plain": [
       "array([[0.18393692, 0.60720549, 0.82527421, 0.01519785],\n",
       "       [0.03643473, 0.14606547, 0.95385693, 0.5634402 ]])"
      ]
     },
     "execution_count": 71,
     "metadata": {},
     "output_type": "execute_result"
    }
   ],
   "source": [
    "#rand(행, 열): 0이상 1미만의 행렬 값을 생성하도록 설계되어 있음\n",
    "np.random.rand(2,4)"
   ]
  },
  {
   "cell_type": "code",
   "execution_count": 86,
   "metadata": {},
   "outputs": [],
   "source": [
    "# 초기화\n",
    "rng = np.random.default_rng()"
   ]
  },
  {
   "cell_type": "code",
   "execution_count": 84,
   "metadata": {},
   "outputs": [
    {
     "data": {
      "text/plain": [
       "0.7739560485559633"
      ]
     },
     "execution_count": 84,
     "metadata": {},
     "output_type": "execute_result"
    }
   ],
   "source": [
    "rng.random() # 0과 1사이의 난수"
   ]
  },
  {
   "cell_type": "code",
   "execution_count": 82,
   "metadata": {},
   "outputs": [
    {
     "data": {
      "text/plain": [
       "array([[6, 0, 4, 6],\n",
       "       [9, 0, 1, 9]], dtype=int64)"
      ]
     },
     "execution_count": 82,
     "metadata": {},
     "output_type": "execute_result"
    }
   ],
   "source": [
    "#rng.integers(low, high, size)\n",
    "rng.integers(0, 10, (2,4)) #0이상 10미만의 2행 4열로 지정된 범위의 정수 난수"
   ]
  },
  {
   "cell_type": "code",
   "execution_count": 24,
   "metadata": {},
   "outputs": [
    {
     "data": {
      "text/plain": [
       "array([[ True, False],\n",
       "       [ True, False],\n",
       "       [False, False]])"
      ]
     },
     "execution_count": 24,
     "metadata": {},
     "output_type": "execute_result"
    }
   ],
   "source": [
    "#관련메소드, 조건식 #굉장이 중요함!!!\n",
    "ndarr = np.array([[6,3], [5,2], [4,1]])\n",
    "ndarr > 4 #각 요소가 1보다 큰게 있는가?\n",
    "#결과값은 같은 크기의 Boolean배열로 반환환"
   ]
  },
  {
   "cell_type": "code",
   "execution_count": 25,
   "metadata": {},
   "outputs": [
    {
     "data": {
      "text/plain": [
       "array([6, 5])"
      ]
     },
     "execution_count": 25,
     "metadata": {},
     "output_type": "execute_result"
    }
   ],
   "source": [
    "ndarr = np.array([[6,3], [5,2], [4,1]])\n",
    "ndarr[ndarr > 4] \n",
    "#ㄴBoolean배열로 반환된 값에서 True 값들만 반환\n",
    "#ㄴ1차원 배열로 생성."
   ]
  },
  {
   "cell_type": "code",
   "execution_count": 26,
   "metadata": {},
   "outputs": [
    {
     "data": {
      "text/plain": [
       "array([6, 3, 5, 2, 4])"
      ]
     },
     "execution_count": 26,
     "metadata": {},
     "output_type": "execute_result"
    }
   ],
   "source": [
    "ndarr = np.array([[6,3], [5,2], [4,1]])\n",
    "ndarr[ndarr > 1]"
   ]
  },
  {
   "cell_type": "code",
   "execution_count": 27,
   "metadata": {},
   "outputs": [
    {
     "data": {
      "text/plain": [
       "array([[5, 2],\n",
       "       [4, 1]])"
      ]
     },
     "execution_count": 27,
     "metadata": {},
     "output_type": "execute_result"
    }
   ],
   "source": [
    "#슬라이싱\n",
    "ndarr[1:] #인데스의 1번 인덱스부터 끝까지 반환하라"
   ]
  }
 ],
 "metadata": {
  "kernelspec": {
   "display_name": "base",
   "language": "python",
   "name": "python3"
  },
  "language_info": {
   "codemirror_mode": {
    "name": "ipython",
    "version": 3
   },
   "file_extension": ".py",
   "mimetype": "text/x-python",
   "name": "python",
   "nbconvert_exporter": "python",
   "pygments_lexer": "ipython3",
   "version": "3.12.7"
  }
 },
 "nbformat": 4,
 "nbformat_minor": 2
}
