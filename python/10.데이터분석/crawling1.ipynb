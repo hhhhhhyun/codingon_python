{
 "cells": [
  {
   "cell_type": "code",
   "execution_count": 11,
   "metadata": {},
   "outputs": [
    {
     "name": "stdout",
     "output_type": "stream",
     "text": [
      "Requirement already satisfied: requests in c:\\users\\there\\anaconda3\\lib\\site-packages (2.32.3)\n",
      "Requirement already satisfied: charset-normalizer<4,>=2 in c:\\users\\there\\anaconda3\\lib\\site-packages (from requests) (3.3.2)\n",
      "Requirement already satisfied: idna<4,>=2.5 in c:\\users\\there\\anaconda3\\lib\\site-packages (from requests) (3.7)\n",
      "Requirement already satisfied: urllib3<3,>=1.21.1 in c:\\users\\there\\anaconda3\\lib\\site-packages (from requests) (2.2.3)\n",
      "Requirement already satisfied: certifi>=2017.4.17 in c:\\users\\there\\anaconda3\\lib\\site-packages (from requests) (2024.8.30)\n",
      "Note: you may need to restart the kernel to use updated packages.\n"
     ]
    }
   ],
   "source": [
    "%pip install requests"
   ]
  },
  {
   "cell_type": "code",
   "execution_count": 12,
   "metadata": {},
   "outputs": [],
   "source": [
    "import requests"
   ]
  },
  {
   "cell_type": "code",
   "execution_count": 13,
   "metadata": {},
   "outputs": [
    {
     "name": "stdout",
     "output_type": "stream",
     "text": [
      "<!DOCTYPE HTML>\n",
      "<html lang=\"ko\">\n",
      "<head>\n",
      "    <meta http-equiv=\"Content-Type\" content=\"text/html; charset=utf-8\"/>\n",
      "    <meta name=\"viewport\" content=\"width=device-width,initial-scale=1.0,maximum-scale=1.0,minimum-scale=1.0,user-scalable=no\">\n",
      "    <meta name=\"description\" lang=\"ko\" content=\"ì ì í ë¤ì íì¸í´ì£¼ì¸ì! : ë¤ì´ë² ì¼í\">\n",
      "    <title>ìë¬ íì´ì§ : ë¤ì´ë² ì¼í</title>\n",
      "    <link rel=\"stylesheet\" type=\"text/css\" href=\"https://shopv.pstatic.net/web/maintenance/limit/naver_error.css\">\n",
      "    <script src=\"https://shopv.pstatic.net/web/maintenance/limit/grafolio.js\"></script>\n",
      "</head>\n",
      "<body>\n",
      "<div id=\"u_skip\" class=\"u_skip\">\n",
      "    <a href=\"#content\">ë³¸ë¬¸ ë°ë¡ê°ê¸°</a>\n",
      "</div>\n",
      "<div class=\"wrap\">\n",
      "    <div class=\"header\" role=\"banner\">\n",
      "        <h1 class=\"logo\">\n",
      "            <a href=\"https://naver.com\" class=\"logo_link\">\n",
      "                <img src=\"https://shopv.pstatic.net/web/maintenance/limit/naver_logo.png\" width=\"90\" height=\"16\" alt=\"ë¤ì´ë²\">\n",
      "            </a>\n",
      "        </h1>\n",
      "        <div class=\"nav\" role=\"navigation\">\n",
      "            <a href=\"https://naver.com\" class=\"nav_link\">ë¤ì´ë²í</a>\n",
      "            <a href=\"https://help.pay.naver.com\" class=\"nav_link\">ì¼í&íì´ ê³ ê°ì¼í°</a>\n",
      "        </div>\n",
      "    </div>\n",
      "    <hr>\n",
      "    <div class=\"container\" role=\"main\">\n",
      "        <div class=\"content\" id=\"content\">\n",
      "            <div class=\"image_area _errorImage\"></div>\n",
      "\n",
      "            <div class=\"info_area\">\n",
      "                <div class=\"info_txt\">\n",
      "                    <strong class=\"tit\">ì ì í ë¤ì íì¸í´ì£¼ì¸ì!</strong>\n",
      "                    <p class=\"txt\">\n",
      "                        ì§ê¸ ì´ ìë¹ì¤ì ì°ê²°í  ì ììµëë¤.<br>\n",
      "                        ë¬¸ì ë¥¼ í´ê²°íê¸° ìí´ ì´ì¬í ë¸ë ¥íê³  ììµëë¤.<br>\n",
      "                        ì ì í ë¤ì íì¸í´ì£¼ì¸ì.\n",
      "                    </p>\n",
      "                </div>\n",
      "                <div class=\"info_link\">\n",
      "                    <a href=\"javascript:history.go(-1)\" class=\"link_prev\">ì´ì  íì´ì§</a><a href=\"https://shopping.naver.com\" class=\"link_home\">ë¤ì´ë² ì¼í í</a>\n",
      "                </div>\n",
      "            </div>\n",
      "        </div>\n",
      "    </div>\n",
      "    <hr>\n",
      "    <div class=\"footer\" role=\"contentinfo\">\n",
      "        <address>\n",
      "            <span>Copyright</span> Â©<a href=\"http://www.navercorp.com\" class=\"link_naver\" target=\"_blank\">NAVER Corp.</a> <span>All Rights Reserved.</span>\n",
      "        </address>\n",
      "    </div>\n",
      "</div>\n",
      "</body>\n",
      "</html>\n"
     ]
    }
   ],
   "source": [
    "response = requests.get(\"https://shopping.naver.com/gift/products/7451951579?NaPm=ct%3Dm4w0viiq%7Cci%3Dshoppingwindow%7Ctr%3Dgsh%7Chk%3Ddcb641bc723e900afc93f8c17f0263172194c87e%7Ctrx%3D&rankMenuId=10030807\")\n",
    "html = response.text\n",
    "print(html)"
   ]
  },
  {
   "cell_type": "code",
   "execution_count": 16,
   "metadata": {},
   "outputs": [
    {
     "name": "stdout",
     "output_type": "stream",
     "text": [
      "Requirement already satisfied: bs4 in c:\\users\\there\\anaconda3\\lib\\site-packages (0.0.2)\n",
      "Requirement already satisfied: beautifulsoup4 in c:\\users\\there\\anaconda3\\lib\\site-packages (from bs4) (4.12.3)\n",
      "Requirement already satisfied: soupsieve>1.2 in c:\\users\\there\\anaconda3\\lib\\site-packages (from beautifulsoup4->bs4) (2.5)\n",
      "Note: you may need to restart the kernel to use updated packages.\n"
     ]
    }
   ],
   "source": [
    "%pip install bs4"
   ]
  },
  {
   "cell_type": "code",
   "execution_count": 17,
   "metadata": {},
   "outputs": [],
   "source": [
    "from bs4 import BeautifulSoup\n",
    "\n",
    "soup = BeautifulSoup(html, 'html.parser')"
   ]
  },
  {
   "cell_type": "code",
   "execution_count": 21,
   "metadata": {},
   "outputs": [],
   "source": [
    "html_str = '''\n",
    "<html>\n",
    "    <body>\n",
    "        <div id=\"content\">\n",
    "            <ul class = 'industry'>\n",
    "                <li>인공지능</li>\n",
    "                <li>빅데이터</li>\n",
    "                <li>스마트팩토리</li>\n",
    "            </ul>\n",
    "            <ul class = 'comlang'>\n",
    "                <li>Python</li>\n",
    "                <li>C++</li>\n",
    "                <li>Javascript</li>\n",
    "            </ul>\n",
    "        </div>\n",
    "    </body>\n",
    "</html>\n",
    "'''\n",
    "soup = BeautifulSoup(html_str, \"html.parser\")"
   ]
  },
  {
   "cell_type": "code",
   "execution_count": 20,
   "metadata": {},
   "outputs": [
    {
     "name": "stdout",
     "output_type": "stream",
     "text": [
      "\n",
      "<html>\n",
      "    <body>\n",
      "        <div id=\"content\">\n",
      "            <ul class = 'industry'>\n",
      "                <li>인공지능</li>\n",
      "                <li>빅데이터</li>\n",
      "                <li>스마트팩토리</li>\n",
      "            </ul>\n",
      "            <ul class = 'comlang'>\n",
      "                <li>Python</li>\n",
      "                <li>C++</li>\n",
      "                <li>Javascript</li>\n",
      "            </ul>\n",
      "        </div>\n",
      "    </body>\n",
      "</html>\n",
      "\n"
     ]
    }
   ],
   "source": [
    "print(html_str)"
   ]
  },
  {
   "cell_type": "code",
   "execution_count": 26,
   "metadata": {},
   "outputs": [
    {
     "name": "stdout",
     "output_type": "stream",
     "text": [
      "<ul class=\"industry\">\n",
      "<li>인공지능</li>\n",
      "<li>빅데이터</li>\n",
      "<li>스마트팩토리</li>\n",
      "</ul>\n",
      "\n",
      "인공지능\n",
      "빅데이터\n",
      "스마트팩토리\n",
      "\n"
     ]
    }
   ],
   "source": [
    "first_ul = soup.find('ul')\n",
    "print(first_ul)\n",
    "print(first_ul.text)"
   ]
  },
  {
   "cell_type": "code",
   "execution_count": 28,
   "metadata": {},
   "outputs": [
    {
     "name": "stdout",
     "output_type": "stream",
     "text": [
      "<ul class=\"industry\">\n",
      "<li>인공지능</li>\n",
      "<li>빅데이터</li>\n",
      "<li>스마트팩토리</li>\n",
      "</ul>\n",
      "\n",
      "인공지능\n",
      "빅데이터\n",
      "스마트팩토리\n",
      "\n",
      "\n",
      "인공지능\n",
      "빅데이터\n",
      "스마트팩토리\n",
      "\n"
     ]
    }
   ],
   "source": [
    "first_ul = soup.find('ul')\n",
    "print(first_ul)\n",
    "print(first_ul.text)\n",
    "print(first_ul.get_text())"
   ]
  },
  {
   "cell_type": "code",
   "execution_count": 34,
   "metadata": {},
   "outputs": [
    {
     "name": "stdout",
     "output_type": "stream",
     "text": [
      "[<li>인공지능</li>, <li>빅데이터</li>, <li>스마트팩토리</li>]\n",
      "<li>인공지능</li>\n",
      "인공지능\n",
      "인공지능\n",
      "빅데이터\n",
      "스마트팩토리\n"
     ]
    }
   ],
   "source": [
    "all_list = first_ul.findAll('li')\n",
    "print(all_list)\n",
    "print(all_list[0])\n",
    "print(all_list[0].text)\n",
    "\n",
    "for li in all_list:\n",
    "    print(li.text)"
   ]
  },
  {
   "cell_type": "code",
   "execution_count": 36,
   "metadata": {},
   "outputs": [
    {
     "name": "stdout",
     "output_type": "stream",
     "text": [
      "[<li>인공지능</li>, <li>빅데이터</li>, <li>스마트팩토리</li>, <li>Python</li>, <li>C++</li>, <li>Javascript</li>]\n",
      "<li>인공지능</li>\n",
      "인공지능\n",
      "인공지능\n",
      "빅데이터\n",
      "스마트팩토리\n",
      "Python\n",
      "C++\n",
      "Javascript\n"
     ]
    }
   ],
   "source": [
    "all_list = soup.findAll('li')\n",
    "print(all_list)\n",
    "print(all_list[0])\n",
    "print(all_list[0].text)\n",
    "\n",
    "for li in all_list:\n",
    "    print(li.text)"
   ]
  },
  {
   "cell_type": "code",
   "execution_count": 38,
   "metadata": {},
   "outputs": [
    {
     "name": "stdout",
     "output_type": "stream",
     "text": [
      "<ul class=\"comlang\">\n",
      "<li>Python</li>\n",
      "<li>C++</li>\n",
      "<li>Javascript</li>\n",
      "</ul>\n",
      "\n",
      "Python\n",
      "C++\n",
      "Javascript\n",
      "\n"
     ]
    }
   ],
   "source": [
    "find_ul = soup.find('ul', class_= 'comlang')\n",
    "# find_ul = soup.find(class_= 'comlang')\n",
    "print(find_ul)\n",
    "print(find_ul.text)"
   ]
  },
  {
   "cell_type": "code",
   "execution_count": 44,
   "metadata": {},
   "outputs": [
    {
     "name": "stdout",
     "output_type": "stream",
     "text": [
      "<ul class=\"industry\">\n",
      "<li>인공지능</li>\n",
      "<li>빅데이터</li>\n",
      "<li>스마트팩토리</li>\n",
      "</ul>\n",
      "\n",
      "인공지능\n",
      "빅데이터\n",
      "스마트팩토리\n",
      "\n"
     ]
    }
   ],
   "source": [
    "#select() 사용하기\n",
    "f_ul = soup.select_one('ul.industry')\n",
    "print(f_ul)\n",
    "print(f_ul.text)"
   ]
  },
  {
   "cell_type": "code",
   "execution_count": 48,
   "metadata": {},
   "outputs": [
    {
     "name": "stdout",
     "output_type": "stream",
     "text": [
      "[<li>인공지능</li>, <li>빅데이터</li>, <li>스마트팩토리</li>]\n",
      "<li>인공지능</li>\n",
      "인공지능\n",
      "인공지능\n",
      "빅데이터\n",
      "스마트팩토리\n",
      "Python\n",
      "C++\n",
      "Javascript\n"
     ]
    }
   ],
   "source": [
    "all_li = f_ul.select('li')\n",
    "print(all_li)\n",
    "print(all_li[0])\n",
    "print(all_li[0].text)\n",
    "\n",
    "for li in all_list:\n",
    "    print(li.text)"
   ]
  },
  {
   "cell_type": "code",
   "execution_count": 47,
   "metadata": {},
   "outputs": [
    {
     "name": "stdout",
     "output_type": "stream",
     "text": [
      "[<li>인공지능</li>, <li>빅데이터</li>, <li>스마트팩토리</li>]\n",
      "<li>인공지능</li>\n",
      "인공지능\n"
     ]
    }
   ],
   "source": [
    "all_li = f_ul.select('li')\n",
    "print(all_li)\n",
    "print(all_li[0])\n",
    "print(all_li[0].text)"
   ]
  },
  {
   "cell_type": "code",
   "execution_count": 49,
   "metadata": {},
   "outputs": [
    {
     "name": "stdout",
     "output_type": "stream",
     "text": [
      "[<li>인공지능</li>, <li>빅데이터</li>, <li>스마트팩토리</li>]\n",
      "<li>인공지능</li>\n",
      "인공지능\n"
     ]
    }
   ],
   "source": [
    "all_li = soup.select('ul.industry > li')\n",
    "print(all_li)\n",
    "print(all_li[0])\n",
    "print(all_li[0].text)"
   ]
  },
  {
   "cell_type": "code",
   "execution_count": 52,
   "metadata": {},
   "outputs": [
    {
     "name": "stdout",
     "output_type": "stream",
     "text": [
      "[<div id=\"content\">\n",
      "<ul class=\"industry\">\n",
      "<li>인공지능</li>\n",
      "<li>빅데이터</li>\n",
      "<li>스마트팩토리</li>\n",
      "</ul>\n",
      "<ul class=\"comlang\">\n",
      "<li>Python</li>\n",
      "<li>C++</li>\n",
      "<li>Javascript</li>\n",
      "</ul>\n",
      "</div>]\n",
      "\n",
      "\n",
      "인공지능\n",
      "빅데이터\n",
      "스마트팩토리\n",
      "\n",
      "\n",
      "Python\n",
      "C++\n",
      "Javascript\n",
      "\n",
      "\n"
     ]
    }
   ],
   "source": [
    "idid = soup.select('#content')\n",
    "print(idid)\n",
    "print(idid[0].text)"
   ]
  },
  {
   "cell_type": "code",
   "execution_count": 56,
   "metadata": {},
   "outputs": [
    {
     "name": "stdout",
     "output_type": "stream",
     "text": [
      "[<ul class=\"industry\">\n",
      "<li>인공지능</li>\n",
      "<li>빅데이터</li>\n",
      "<li>스마트팩토리</li>\n",
      "</ul>]\n",
      "\n",
      "인공지능\n",
      "빅데이터\n",
      "스마트팩토리\n",
      "\n"
     ]
    }
   ],
   "source": [
    "idid = soup.select('.industry')\n",
    "print(idid)\n",
    "print(idid[0].text)"
   ]
  },
  {
   "cell_type": "code",
   "execution_count": 59,
   "metadata": {},
   "outputs": [],
   "source": [
    "sss = '''\n",
    "        <div class=\"a\">\n",
    "            <a href=\"http://naver.com\" class=\"dsc_thumb\"></a>\n",
    "        </div>\n",
    "'''\n",
    "soup = BeautifulSoup(sss, \"html.parser\")"
   ]
  },
  {
   "cell_type": "code",
   "execution_count": 61,
   "metadata": {},
   "outputs": [
    {
     "name": "stdout",
     "output_type": "stream",
     "text": [
      "<a class=\"dsc_thumb\" href=\"http://naver.com\"></a>\n",
      "http://naver.com\n",
      "['dsc_thumb']\n"
     ]
    }
   ],
   "source": [
    "b = soup.select_one('div a')\n",
    "print(b)\n",
    "print(b['href'])\n",
    "print(b['class'])"
   ]
  },
  {
   "cell_type": "code",
   "execution_count": null,
   "metadata": {},
   "outputs": [],
   "source": [
    "#실습. 사용자에게 검색어를 입력 받아 검색된 뉴스의 제목과 링크 가져오기\n",
    "response = requests.get(\"https://shopping.naver.com/gift/products/7451951579?NaPm=ct%3Dm4w0viiq%7Cci%3Dshoppingwindow%7Ctr%3Dgsh%7Chk%3Ddcb641bc723e900afc93f8c17f0263172194c87e%7Ctrx%3D&rankMenuId=10030807\")\n",
    "html = response.text\n",
    "print(html)"
   ]
  }
 ],
 "metadata": {
  "kernelspec": {
   "display_name": "base",
   "language": "python",
   "name": "python3"
  },
  "language_info": {
   "codemirror_mode": {
    "name": "ipython",
    "version": 3
   },
   "file_extension": ".py",
   "mimetype": "text/x-python",
   "name": "python",
   "nbconvert_exporter": "python",
   "pygments_lexer": "ipython3",
   "version": "3.12.7"
  }
 },
 "nbformat": 4,
 "nbformat_minor": 2
}
